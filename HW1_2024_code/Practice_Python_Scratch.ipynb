{
 "cells": [
  {
   "cell_type": "markdown",
   "metadata": {
    "id": "kOutdYbF9nde"
   },
   "source": [
    "# Setup for ARC\n",
    "You should follow section 6 to start an interactive session in ARC with GPU access. In particular, **before running any of the codes**, you should load the following modules:\n",
    "\n",
    "```\n",
    "module load PyTorch/1.11.0-foss-2022a-CUDA-11.7.0\n",
    "module load h5py/3.7.0-foss-2022a\n",
    "module load tqdm/4.64.0-GCCcore-11.3.0\n",
    "```"
   ]
  },
  {
   "cell_type": "markdown",
   "metadata": {
    "id": "kek3zOI040qo"
   },
   "source": [
    "\n",
    "# Question 3/4: Classifying digits in the MNIST dataset\n",
    "\n",
    "We would like to classify the digits from the MNIST dataset, with the data in the form $(x_i, y_i)$ with $x_i \\in \\mathbb{R}^d$ ($d=28\\times 28 = 784$) being the image and $y_i \\in \\mathbb{R}^K$ ($K=10$) being the labels. Recall the architecture of a shallow (single-layer) fully-connected neural network: $f(x,\\theta)$ for $\\theta=(C,W,b^{(1)},b^{(2)})$, defined iteratively as\n",
    "$$\n",
    "\\begin{aligned}\n",
    "    Z &= Wx + b^{(1)} \\in \\mathbb{R}^{d_H} \\\\\n",
    "    H_i &= \\sigma(Z_i) \\\\\n",
    "    f(x,\\theta) &= F_{\\mathsf{softmax}}(CH + b^{(2)}) \\in \\mathbb{R}^K,\n",
    "\\end{aligned}\n",
    "$$\n",
    "where $\\sigma(\\cdot)$ is an activation function to be specified, and that $d_H$ is the number of hidden units.\n",
    "\n",
    "Before this, let us setup the environments for you. This is done by running the following cell."
   ]
  },
  {
   "cell_type": "code",
   "execution_count": 3,
   "metadata": {
    "id": "z-yJWkQgHLvm"
   },
   "outputs": [],
   "source": [
    "import numpy as np\n",
    "import pandas as pd\n",
    "import seaborn as sns\n",
    "import matplotlib.pyplot as plt\n",
    "import time\n",
    "import copy\n",
    "import h5py\n",
    "from tqdm import tqdm\n",
    "from random import randint\n",
    "import random"
   ]
  },
  {
   "cell_type": "markdown",
   "metadata": {
    "id": "IWF802kxJGA1"
   },
   "source": [
    "# Load the class MNIST dataset.\n",
    "Run the cell below to convert the dataset to the familiar `np.array` format.\n",
    "\n",
    "> **If you are running the notebook in Google Colab and that the above setup fails**, you can upload the dataset (`MNISTdata.hdf5`) directly to the file explorer. Please consult [this tutorial](https://towardsdatascience.com/7-ways-to-load-external-data-into-google-colab-7ba73e7d5fc7) from the `towardsdatascience.com`."
   ]
  },
  {
   "cell_type": "code",
   "execution_count": 4,
   "metadata": {
    "id": "8II5MnNJHfEH"
   },
   "outputs": [],
   "source": [
    "MNIST_data = h5py.File('./MNISTdata.hdf5', 'r')\n",
    "x_train = np.float32(MNIST_data['x_train'][:] )\n",
    "y_train = np.int32(np.array(MNIST_data['y_train'][:,0]))\n",
    "x_test = np.float32( MNIST_data['x_test'][:] )\n",
    "y_test = np.int32( np.array( MNIST_data['y_test'][:,0]))\n",
    "\n",
    "MNIST_data.close()"
   ]
  },
  {
   "cell_type": "markdown",
   "metadata": {
    "id": "85lRMRCyHLGt"
   },
   "source": [
    "# Question 3 Part (b) - Implementing NN without PyTorch\n",
    "\n",
    "By the time of reading this notebook, you should have completed **part (a)** of the problem sheet, and read through pages 28-37 of the lecture slides. In this part, you are asked to implement and train a fully-connected neural network with one hidden layer. You will first do this from scratch, before doing this again with PyTorch in question 4.\n",
    "\n",
    "A neural network is defined as a `class` in Python. We will assume that you are familiar with working with class. If you need help, consult the following [W3school tutorial](https://www.w3schools.com/python/python_classes.asp).\n",
    "\n",
    "Read the instructions in the problem sheet to implement and train a shallow neural network from scratch."
   ]
  },
  {
   "cell_type": "code",
   "execution_count": 23,
   "metadata": {
    "id": "29janzrzPjws"
   },
   "outputs": [],
   "source": [
    "class myShallowNetwork:\n",
    "  def __init__(self, num_inputs=784, num_outputs=10, num_hidden_units=200, sw=1, sb=1):\n",
    "    self.num_inputs = num_inputs\n",
    "    self.num_hidden_units = num_hidden_units\n",
    "    self.num_outputs = num_outputs\n",
    "\n",
    "    ### TODO (1): initialise the weights and biases. Your solutions goes here.   \n",
    "    self.W1 = np.random.randn(num_hidden_units,num_inputs) / np.sqrt(num_inputs) # Random Init of W1\n",
    "    self.W2 = np.random.randn(num_hidden_units,num_hidden_units) / np.sqrt(num_hidden_units) # Random Init of W2\n",
    "    self.W3 = np.random.randn(num_outputs,num_hidden_units) / np.sqrt(num_hidden_units) # Random Init of W2\n",
    "    \n",
    "    self.b1 = np.zeros((num_hidden_units, 1))\n",
    "    self.b2 = np.zeros((num_hidden_units, 1))\n",
    "    self.b3 = np.zeros((num_outputs, 1))\n",
    "    \n",
    "    self.A = np.random.randn(num_hidden_units,num_inputs) / np.sqrt(num_inputs) # Random Init of A\n",
    "    \n",
    "\n",
    "  ### TODO (2): implement the hidden_function, softmax_function and hidden_function_grad.\n",
    "  def hidden_function(self,z):\n",
    "    # Sigmoid function \n",
    "    return 1 / (1 + np.exp(-z))\n",
    "\n",
    "  def softmax_function(self, z):\n",
    "    e_z = np.exp(z - np.max(z, axis=0, keepdims=True))\n",
    "    return e_z / e_z.sum(axis=0, keepdims=True)\n",
    "\n",
    "  def hidden_function_grad(self,z):\n",
    "    # Find the gradient of sigmoid function\n",
    "    return self.hidden_function(z) * (1 - self.hidden_function(z))\n",
    "\n",
    "\n",
    "\n",
    "  ### TODO (3): implement the forward function (return two dimensional array)\n",
    "  def forward(self,x):\n",
    "    \n",
    "    Z1 = np.dot(self.W1, x) + self.b1\n",
    "    \n",
    "    # Compute Z, H, U, f and Rho\n",
    "    H1 = self.hidden_function(Z1)  \n",
    "    Z2 = self.W2 @ H1 + self.A @ x + self.b2\n",
    "    H2 = self.hidden_function(Z2)\n",
    "    U = self.W3 @ H2 + self.b3\n",
    "    f = self.softmax_function(U)\n",
    "\n",
    "    return f, Z1, Z2, H1, H2\n",
    "\n",
    "\n",
    "  ### TODO (4): implement the backward function\n",
    "  def backward(self,x,y): \n",
    "    \n",
    "    # Run Forward Algorithm \n",
    "    f, Z1, Z2, H1, H2 = self.forward(x) \n",
    "    \n",
    "    dU = f\n",
    "    dU[y] -= 1\n",
    "    db3 = dU\n",
    "    dW3 = dU @ H1.T\n",
    "    delta1 = self.W3.T @ db3 # dH1\n",
    "    db2 = delta1 * self.hidden_function_grad(Z2)\n",
    "    dA = np.outer(db2, x) # (delta1 * self.hidden_function_grad(Z2)) @ x.T\n",
    "    dW2 = np.outer(db2, H1) # (delta1 * self.hidden_function_grad(Z2)) @ H1.T\n",
    " \n",
    "    delta2 = self.W2.T @ db2\n",
    "    db1 = delta2 * self.hidden_function_grad(Z1)\n",
    "    dW1 = np.outer(db1, x)  \n",
    "    \n",
    "    return dW1, dW2,dW3, dA, db1, db2, db3\n",
    "\n",
    "\n",
    "  def train(self, x_train, y_train, LR=.01, num_epochs=1):\n",
    "    time1 = time.time()\n",
    "\n",
    "    ### TODO (5): implement the train function\n",
    "    for epochs in range(num_epochs):\n",
    "\n",
    "        # Section: implement the SGD\n",
    "        for n in tqdm(range(len(x_train))): \n",
    "            \n",
    "          # randomly select a data point (x, y)\n",
    "          rand_index = randint(0,len(x_train)-1)\n",
    "            \n",
    "          x = x_train[rand_index][:].reshape(-1, 1)\n",
    "          y = y_train[rand_index]  \n",
    "\n",
    "          # compute gradient with respect to cross-entropy loss\n",
    "          dW1, dW2,dW3, dA, db1, db2, db3 = self.backward(x, y)\n",
    "        \n",
    "          # update weights and biases\n",
    "          self.W1 -= LR * dW1\n",
    "          self.W2 -= LR * dW2\n",
    "          self.W3 -= LR * dW3\n",
    "        \n",
    "          self.A -= LR * dA\n",
    "            \n",
    "          self.b1 -= LR * db1\n",
    "          self.b2 -= LR * db2\n",
    "          self.b3 -= LR * db3 \n",
    "          \n",
    "\n",
    "        # Section: At the end of each epoch, compute the training accuracy\n",
    "\n",
    "        # compute the probability vectors for each training inputs\n",
    "        # It should be emphasised that p is a 2D array containing all predicted probability as vectors\n",
    "        p, *_ = self.forward(x_train.T)\n",
    "\n",
    "        # compute the prediction - you don't need to do a for loop here!\n",
    "        y_pred = np.argmax(p, axis = 0)\n",
    "\n",
    "        # compute the number of correct predictions - you don't need to do a for loop here!\n",
    "        total_correct = np.sum(y_pred == y_train)\n",
    "\n",
    "        print(f\"Train accuracy: {total_correct/len(x_train):.2f}\")\n",
    "        ### End of TODO (5)\n",
    "\n",
    "\n",
    "    time2 = time.time()\n",
    "    print(f\"Training time is {time2-time1}s.\")\n",
    "    \n",
    "    \n",
    "\n",
    "  ### TODO (6): implement the predict function \n",
    "  def predict(self, x_test):\n",
    "    p, *_ = self.forward(x_test)\n",
    "    y_pred = np.argmax(p, axis = 0)\n",
    "    return y_pred\n",
    "  ### End of TODO (6)\n",
    "\n",
    "  def test(self, x_test, y_test, plot_confusion=False):\n",
    "    ### TODO (7): implement the test function \n",
    "    y_pred = self.predict(x_test.T)\n",
    "    total_correct = np.sum(y_pred == y_test)\n",
    "    accuracy = total_correct/len(y_test)\n",
    "    \n",
    "    \n",
    "    if plot_confusion:\n",
    "        # Compute the confusion matrix\n",
    "        confusion_matrix, _, _ = np.histogram2d(y_test, y_pred, bins=np.arange(self.num_outputs + 1))\n",
    "\n",
    "        # Plotting the confusion matrix\n",
    "        plt.figure(figsize=(10, 8))\n",
    "        sns.heatmap(confusion_matrix, annot=True, fmt='g', cmap='viridis')\n",
    "        plt.xlabel('Predicted labels')\n",
    "        plt.ylabel('True labels')\n",
    "        plt.title('Confusion Matrix')\n",
    "        plt.show()\n",
    "\n",
    "    return accuracy"
   ]
  },
  {
   "cell_type": "markdown",
   "metadata": {
    "id": "9Hv6IknmQ1qF"
   },
   "source": [
    "Congratulations in completing the To-dos. Before we actually train the neural network for classifying MNIST digits, let us compare our computed gradients with its finite-difference approximation."
   ]
  },
  {
   "cell_type": "code",
   "execution_count": 27,
   "metadata": {
    "colab": {
     "base_uri": "https://localhost:8080/"
    },
    "executionInfo": {
     "elapsed": 263,
     "status": "ok",
     "timestamp": 1673802738574,
     "user": {
      "displayName": "CHSamuelLam Official",
      "userId": "14638164322242343101"
     },
     "user_tz": 0
    },
    "id": "4FR6fPOvQkh9",
    "outputId": "a16b5a62-9d22-45f8-b907-1603630e7b37"
   },
   "outputs": [
    {
     "ename": "IndexError",
     "evalue": "index 3 is out of bounds for axis 0 with size 1",
     "output_type": "error",
     "traceback": [
      "\u001b[0;31m---------------------------------------------------------------------------\u001b[0m",
      "\u001b[0;31mIndexError\u001b[0m                                Traceback (most recent call last)",
      "Input \u001b[0;32mIn [27]\u001b[0m, in \u001b[0;36m<cell line: 26>\u001b[0;34m()\u001b[0m\n\u001b[1;32m     23\u001b[0m x_input \u001b[38;5;241m=\u001b[39m x_train[sample][:]\u001b[38;5;241m.\u001b[39mreshape(\u001b[38;5;241m-\u001b[39m\u001b[38;5;241m1\u001b[39m, \u001b[38;5;241m1\u001b[39m)\n\u001b[1;32m     24\u001b[0m y_input \u001b[38;5;241m=\u001b[39m y_train[sample]\n\u001b[0;32m---> 26\u001b[0m differential \u001b[38;5;241m=\u001b[39m ((\u001b[38;5;241m-\u001b[39mnp\u001b[38;5;241m.\u001b[39mlog(\u001b[43mmy_SNN_new\u001b[49m\u001b[38;5;241;43m.\u001b[39;49m\u001b[43mforward\u001b[49m\u001b[43m(\u001b[49m\u001b[43mx_input\u001b[49m\u001b[43m)\u001b[49m\u001b[43m[\u001b[49m\u001b[38;5;241;43m0\u001b[39;49m\u001b[43m]\u001b[49m\u001b[43m[\u001b[49m\u001b[38;5;241;43m0\u001b[39;49m\u001b[43m]\u001b[49m\u001b[43m[\u001b[49m\u001b[43my_input\u001b[49m\u001b[43m]\u001b[49m)) \u001b[38;5;241m-\u001b[39m (\u001b[38;5;241m-\u001b[39mnp\u001b[38;5;241m.\u001b[39mlog(my_SNN\u001b[38;5;241m.\u001b[39mforward(x_input)[\u001b[38;5;241m0\u001b[39m][\u001b[38;5;241m0\u001b[39m][y_input])))\u001b[38;5;241m/\u001b[39mepsilon\n\u001b[1;32m     27\u001b[0m _, _, b1_grad, \u001b[38;5;241m*\u001b[39m_ \u001b[38;5;241m=\u001b[39m my_SNN\u001b[38;5;241m.\u001b[39mbackward(x_input, y_input)\n\u001b[1;32m     28\u001b[0m \u001b[38;5;28mprint\u001b[39m(\u001b[38;5;124mf\u001b[39m\u001b[38;5;124m\"\u001b[39m\u001b[38;5;124mabsolute error of the derivative is \u001b[39m\u001b[38;5;132;01m{\u001b[39;00mnp\u001b[38;5;241m.\u001b[39mabs(differential \u001b[38;5;241m-\u001b[39m b1_grad[k])\u001b[38;5;132;01m}\u001b[39;00m\u001b[38;5;124m\"\u001b[39m)\n",
      "\u001b[0;31mIndexError\u001b[0m: index 3 is out of bounds for axis 0 with size 1"
     ]
    }
   ],
   "source": [
    "my_SNN = myShallowNetwork()\n",
    "my_SNN_new = myShallowNetwork()\n",
    "\n",
    "# initialise our new network such that it has same parameters as the original network\n",
    "my_SNN_new.W1 = my_SNN.W1.copy()\n",
    "my_SNN_new.W2 = my_SNN.W2.copy()\n",
    "my_SNN_new.W3 = my_SNN.W3.copy()\n",
    "\n",
    "my_SNN_new.A = my_SNN.A.copy()\n",
    "\n",
    "my_SNN_new.b1 = my_SNN.b1.copy()\n",
    "my_SNN_new.b2 = my_SNN.b2.copy()\n",
    "my_SNN_new.b3 = my_SNN.b3.copy()\n",
    "\n",
    "# now perturb our parameters by a little bit, \n",
    "# here we demonstrate an entry for the bias for the hidden layer\n",
    "k = randint(0, my_SNN.num_hidden_units - 1)\n",
    "epsilon = 1e-9\n",
    "my_SNN_new.b1[k] += epsilon\n",
    "\n",
    "# we may then compute an estimate of the derivative, and compare with the derivative computed from backpropagation\n",
    "sample = randint(0,len(x_train)-1)\n",
    "x_input = x_train[sample][:].reshape(-1, 1)\n",
    "y_input = y_train[sample]\n",
    "\n",
    "differential = ((-np.log(my_SNN_new.forward(x_input)[0][0][y_input])) - (-np.log(my_SNN.forward(x_input)[0][0][y_input])))/epsilon\n",
    "_, _, b1_grad, *_ = my_SNN.backward(x_input, y_input)\n",
    "print(f\"absolute error of the derivative is {np.abs(differential - b1_grad[k])}\")"
   ]
  },
  {
   "cell_type": "markdown",
   "metadata": {
    "id": "m60CjQBaqAZf"
   },
   "source": [
    "You may repeat the above procedure for different partial derivatives. Once you are convinced that the algorithm works, you can run the following cell to see how good our implementation of shallow neural network is."
   ]
  },
  {
   "cell_type": "code",
   "execution_count": 25,
   "metadata": {
    "id": "bdQ9vrZhp8bk"
   },
   "outputs": [
    {
     "name": "stderr",
     "output_type": "stream",
     "text": [
      "100%|████████████████████████████████████| 60000/60000 [01:24<00:00, 714.19it/s]\n"
     ]
    },
    {
     "name": "stdout",
     "output_type": "stream",
     "text": [
      "Train accuracy: 0.91\n",
      "Training time is 84.87051296234131s.\n"
     ]
    }
   ],
   "source": [
    "my_SNN = myShallowNetwork()\n",
    "my_SNN.train(x_train, y_train)"
   ]
  },
  {
   "cell_type": "code",
   "execution_count": 26,
   "metadata": {
    "id": "iYPjAvM_2UyF"
   },
   "outputs": [
    {
     "data": {
      "image/png": "[encoded data removed]",
      "text/plain": [
       "<Figure size 720x576 with 2 Axes>"
      ]
     },
     "metadata": {
      "needs_background": "light"
     },
     "output_type": "display_data"
    },
    {
     "data": {
      "text/plain": [
       "0.9137"
      ]
     },
     "execution_count": 26,
     "metadata": {},
     "output_type": "execute_result"
    }
   ],
   "source": [
    "my_SNN.test(x_test, y_test, plot_confusion=True)"
   ]
  },
  {
   "cell_type": "markdown",
   "metadata": {
    "id": "lxoZdQJ8V4UR"
   },
   "source": [
    "# Question 4 - Implement NN with PyTorch\n",
    "\n",
    "The question is designed for you to not only get used to the syntax of PyTorch, but also how to navigate with Python files in Google Colab and use the (free) GPU resources in Google Colab/ARC. Follow the following steps to complete your setup.\n",
    "\n",
    "1. Make sure that the demonstration file `PyTorch_MultiLayer_MNIST.py` is in the same directory as this notebook in your Google Drive / ARC storage, as well as the dataset `MNISTdata.hdf5`.\n",
    "\n",
    "> You can jump to step 4 if you are using ARC. Complete the following if you are using Google Colab.\n",
    "\n",
    "2. Now go to `Runtime` and select `Change runtime type`. Once you are done, click save.\n",
    "\n",
    "3. Since you have change your runtime, you have to setup your Google Colab. This involve mounting your Google drive and `cd`-ing to the correct directory.\n"
   ]
  },
  {
   "cell_type": "code",
   "execution_count": null,
   "metadata": {
    "id": "WrA4Bf8r6g0I"
   },
   "outputs": [],
   "source": [
    "from google.colab import drive\n",
    "drive.mount('/content/drive')"
   ]
  },
  {
   "cell_type": "code",
   "execution_count": null,
   "metadata": {
    "id": "mNbdR9nm6g0J"
   },
   "outputs": [],
   "source": [
    "%cd drive/MyDrive/{\"replace this with your path of directory\"}"
   ]
  },
  {
   "cell_type": "markdown",
   "metadata": {
    "id": "FLyhDJmA6fYt"
   },
   "source": [
    "4. Now run the following cell to enable `autoreload` which **allows code changes to be effective immediately**. Please <font color=red>**always**</font> run the code cell below each time before you attempt this question."
   ]
  },
  {
   "cell_type": "code",
   "execution_count": null,
   "metadata": {
    "id": "oh7X-9I-cb6-"
   },
   "outputs": [],
   "source": [
    "# enable autoreload\n",
    "%load_ext autoreload\n",
    "%autoreload 2"
   ]
  },
  {
   "cell_type": "markdown",
   "metadata": {
    "id": "d2S2gwn1fGse"
   },
   "source": [
    "5. Now run the following cell to run the demo file `PyTorch_MultiLayer_MNIST.py`. Notice how the training of the neural network is accelerated with the use of the GPU."
   ]
  },
  {
   "cell_type": "code",
   "execution_count": null,
   "metadata": {
    "id": "NcSCfzcdgKeR"
   },
   "outputs": [],
   "source": [
    "%run ./PyTorch_MultiLayer_MNIST.py"
   ]
  },
  {
   "cell_type": "code",
   "execution_count": 13,
   "metadata": {},
   "outputs": [],
   "source": [
    "sample = randint(0,len(x_train)-1)\n",
    "x_input = x_train[sample][:].reshape"
   ]
  },
  {
   "cell_type": "code",
   "execution_count": 14,
   "metadata": {},
   "outputs": [
    {
     "data": {
      "text/plain": [
       "(784,)"
      ]
     },
     "execution_count": 14,
     "metadata": {},
     "output_type": "execute_result"
    }
   ],
   "source": [
    "x_input.shape"
   ]
  },
  {
   "cell_type": "markdown",
   "metadata": {
    "id": "usQG24Daiohz"
   },
   "source": [
    "**Important:** Remember to change the runtime type back to `None` to save your GPU credits!"
   ]
  }
 ],
 "metadata": {
  "colab": {
   "authorship_tag": "ABX9TyPPWMKyII82pmDy0vTPA//R",
   "provenance": []
  },
  "gpuClass": "standard",
  "kernelspec": {
   "display_name": "Python 3 (ipykernel)",
   "language": "python",
   "name": "python3"
  },
  "language_info": {
   "codemirror_mode": {
    "name": "ipython",
    "version": 3
   },
   "file_extension": ".py",
   "mimetype": "text/x-python",
   "name": "python",
   "nbconvert_exporter": "python",
   "pygments_lexer": "ipython3",
   "version": "3.9.12"
  },
  "latex_envs": {
   "LaTeX_envs_menu_present": true,
   "autoclose": false,
   "autocomplete": true,
   "bibliofile": "biblio.bib",
   "cite_by": "apalike",
   "current_citInitial": 1,
   "eqLabelWithNumbers": true,
   "eqNumInitial": 1,
   "hotkeys": {
    "equation": "Ctrl-E",
    "itemize": "Ctrl-I"
   },
   "labels_anchors": false,
   "latex_user_defs": false,
   "report_style_numbering": false,
   "user_envs_cfg": false
  },
  "toc": {
   "base_numbering": 1,
   "nav_menu": {},
   "number_sections": true,
   "sideBar": true,
   "skip_h1_title": false,
   "title_cell": "Table of Contents",
   "title_sidebar": "Contents",
   "toc_cell": false,
   "toc_position": {},
   "toc_section_display": true,
   "toc_window_display": false
  }
 },
 "nbformat": 4,
 "nbformat_minor": 1
}
